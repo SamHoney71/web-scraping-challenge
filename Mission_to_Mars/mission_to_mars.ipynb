{
 "cells": [
  {
   "cell_type": "code",
   "execution_count": 1,
   "metadata": {},
   "outputs": [],
   "source": [
    "from splinter import Browser\n",
    "from bs4 import BeautifulSoup\n",
    "import time\n",
    "import pandas as pd\n",
    "from lxml import etree as et\n",
    "import html5lib"
   ]
  },
  {
   "cell_type": "code",
   "execution_count": 2,
   "metadata": {},
   "outputs": [],
   "source": [
    "executable_path = {\"executable_path\": r\"C:\\users\\gjete\\bin\\chromedriver\"}\n",
    "browser = Browser(\"chrome\", **executable_path, headless=False)"
   ]
  },
  {
   "cell_type": "code",
   "execution_count": 3,
   "metadata": {
    "scrolled": true
   },
   "outputs": [
    {
     "name": "stdout",
     "output_type": "stream",
     "text": [
      "NASA Moves Forward With Campaign to Return Mars Samples to Earth\n",
      "------------\n",
      "During this next phase, the program will mature critical technologies and make critical design decisions as well as assess industry partnerships.\n"
     ]
    }
   ],
   "source": [
    "#NASA Mars News\n",
    "\n",
    "url = \"https://mars.nasa.gov/news/\"\n",
    "browser.visit(url)\n",
    "mars_html = browser.html\n",
    "news_soup = BeautifulSoup(mars_html, 'html.parser')\n",
    "# print(news_soup.prettify())\n",
    "\n",
    "lists = news_soup.find(\"div\", class_=\"list_text\")\n",
    "\n",
    "news_title = lists.find(\"div\", class_= \"content_title\").text\n",
    "news_p = lists.find(\"div\", class_= \"article_teaser_body\").text\n",
    "\n",
    "print(news_title)\n",
    "print('------------')\n",
    "print(news_p)\n"
   ]
  },
  {
   "cell_type": "code",
   "execution_count": 3,
   "metadata": {},
   "outputs": [
    {
     "name": "stdout",
     "output_type": "stream",
     "text": [
      "https://www.jpl.nasa.gov/spaceimages/images/wallpaper/PIA19637-1920x1200.jpg\n"
     ]
    }
   ],
   "source": [
    "#JPL Mars Space Images - Featured Image\n",
    "\n",
    "url = \"https://www.jpl.nasa.gov/spaceimages/?search=&category=Mars\"\n",
    "browser.visit(url)\n",
    "image_html = browser.html\n",
    "image_soup = BeautifulSoup(image_html, 'html.parser')\n",
    "\n",
    "# locate the html\n",
    "feature_image_wide = image_soup.find(\"div\", class_=\"carousel_container\")\n",
    "dirty_feature_image_url = feature_image_wide.find(\"article\", class_=\"carousel_item\")[\"style\"]\n",
    "\n",
    "# clean the unneeded text\n",
    "featured_image_url_1 = dirty_feature_image_url.replace('background-image: url(','')\n",
    "featured_image_url_2 = featured_image_url_1.replace(');','')[1:-1]\n",
    "\n",
    "# make & print the url link\n",
    "featured_image_url = \"https://www.jpl.nasa.gov\"+featured_image_url_2\n",
    "print(featured_image_url)\n"
   ]
  },
  {
   "cell_type": "code",
   "execution_count": 4,
   "metadata": {},
   "outputs": [
    {
     "name": "stdout",
     "output_type": "stream",
     "text": [
      "<table border=\"1\" class=\"dataframe\">\n",
      "  <thead>\n",
      "    <tr style=\"text-align: right;\">\n",
      "      <th></th>\n",
      "      <th>0</th>\n",
      "      <th>1</th>\n",
      "    </tr>\n",
      "  </thead>\n",
      "  <tbody>\n",
      "    <tr>\n",
      "      <th>0</th>\n",
      "      <td>Equatorial Diameter:</td>\n",
      "      <td>6,792 km</td>\n",
      "    </tr>\n",
      "    <tr>\n",
      "      <th>1</th>\n",
      "      <td>Polar Diameter:</td>\n",
      "      <td>6,752 km</td>\n",
      "    </tr>\n",
      "    <tr>\n",
      "      <th>2</th>\n",
      "      <td>Mass:</td>\n",
      "      <td>6.39 × 10^23 kg (0.11 Earths)</td>\n",
      "    </tr>\n",
      "    <tr>\n",
      "      <th>3</th>\n",
      "      <td>Moons:</td>\n",
      "      <td>2 (Phobos &amp; Deimos)</td>\n",
      "    </tr>\n",
      "    <tr>\n",
      "      <th>4</th>\n",
      "      <td>Orbit Distance:</td>\n",
      "      <td>227,943,824 km (1.38 AU)</td>\n",
      "    </tr>\n",
      "    <tr>\n",
      "      <th>5</th>\n",
      "      <td>Orbit Period:</td>\n",
      "      <td>687 days (1.9 years)</td>\n",
      "    </tr>\n",
      "    <tr>\n",
      "      <th>6</th>\n",
      "      <td>Surface Temperature:</td>\n",
      "      <td>-87 to -5 °C</td>\n",
      "    </tr>\n",
      "    <tr>\n",
      "      <th>7</th>\n",
      "      <td>First Record:</td>\n",
      "      <td>2nd millennium BC</td>\n",
      "    </tr>\n",
      "    <tr>\n",
      "      <th>8</th>\n",
      "      <td>Recorded By:</td>\n",
      "      <td>Egyptian astronomers</td>\n",
      "    </tr>\n",
      "  </tbody>\n",
      "</table>\n"
     ]
    }
   ],
   "source": [
    "# Mars Facts \n",
    "\n",
    "executable_path = {\"executable_path\": r\"C:\\users\\gjete\\bin\\chromedriver\"}\n",
    "browser = Browser(\"chrome\", **executable_path, headless=False)\n",
    "\n",
    "url = \"https://space-facts.com/mars/\"\n",
    "browser.visit(url)\n",
    "facts_html = browser.html\n",
    "facts_soup = BeautifulSoup(facts_html, 'html.parser')\n",
    "\n",
    "# locate the html for the fact table\n",
    "mars_facts_wide = facts_soup.find(\"table\", class_=\"tablepress tablepress-id-p-mars\")\n",
    "# print(mars_facts_wide.prettify())\n",
    "\n",
    "#scrape data into list\n",
    "table_rows = facts_soup.find('tbody').find_all('tr')\n",
    "l=[]\n",
    "\n",
    "for tr in table_rows:\n",
    "    td=tr.find_all('td')\n",
    "    row = [str(tr.get_text()).strip() for tr in td]\n",
    "    l.append(row)\n",
    "\n",
    "#convert to a pandas dataframe\n",
    "mars_fact_df = pd.DataFrame(l)\n",
    "\n",
    "#convert to html\n",
    "mars_fact_html = mars_fact_df.to_html()\n",
    "print(mars_fact_html)"
   ]
  },
  {
   "cell_type": "code",
   "execution_count": 5,
   "metadata": {},
   "outputs": [
    {
     "name": "stdout",
     "output_type": "stream",
     "text": [
      "[{'title': 'Cerberus Hemisphere Enhanced', 'img_url': 'https://astrogeology.usgs.gov/search/map/Mars/Viking/cerberus_enhanced'}, {'title': 'Schiaparelli Hemisphere Enhanced', 'img_url': 'https://astrogeology.usgs.gov/search/map/Mars/Viking/schiaparelli_enhanced'}, {'title': 'Syrtis Major Hemisphere Enhanced', 'img_url': 'https://astrogeology.usgs.gov/search/map/Mars/Viking/syrtis_major_enhanced'}, {'title': 'Valles Marineris Hemisphere Enhanced', 'img_url': 'https://astrogeology.usgs.gov/search/map/Mars/Viking/valles_marineris_enhanced'}]\n"
     ]
    }
   ],
   "source": [
    "# Mars Hemispheres\n",
    "\n",
    "url = \"https://astrogeology.usgs.gov/search/results?q=hemisphere+enhanced&k1=target&v1=Mars\"\n",
    "browser.visit(url)\n",
    "hemi_html = browser.html\n",
    "hemi_soup = BeautifulSoup(hemi_html, 'html.parser')\n",
    "\n",
    "# Narrow scrape to right area\n",
    "hemi_image_wide = hemi_soup.find(\"div\", class_=\"collapsible results\").find_all(\"div\", class_=\"item\")\n",
    "\n",
    "# Scrape title and image url into dictionary\n",
    "image_dict =[]\n",
    "\n",
    "for image in hemi_image_wide:\n",
    "    image_url = \"https://astrogeology.usgs.gov\" + image.find(\"a\", class_=\"itemLink product-item\")[\"href\"]  \n",
    "    image_title = image.find(\"h3\").get_text()\n",
    "    image_dict.append({\"title\": image_title, \"img_url\": image_url})\n",
    "\n",
    "print(image_dict)"
   ]
  },
  {
   "cell_type": "code",
   "execution_count": 7,
   "metadata": {},
   "outputs": [
    {
     "name": "stdout",
     "output_type": "stream",
     "text": [
      "[{'title': 'Cerberus Hemisphere Enhanced', 'img_url': 'https://astrogeology.usgs.gov/cache/images/39d3266553462198bd2fbc4d18fbed17_cerberus_enhanced.tif_thumb.png'}, {'title': 'Schiaparelli Hemisphere Enhanced', 'img_url': 'https://astrogeology.usgs.gov/cache/images/08eac6e22c07fb1fe72223a79252de20_schiaparelli_enhanced.tif_thumb.png'}, {'title': 'Syrtis Major Hemisphere Enhanced', 'img_url': 'https://astrogeology.usgs.gov/cache/images/55a0a1e2796313fdeafb17c35925e8ac_syrtis_major_enhanced.tif_thumb.png'}, {'title': 'Valles Marineris Hemisphere Enhanced', 'img_url': 'https://astrogeology.usgs.gov/cache/images/4e59980c1c57f89c680c0e1ccabbeff1_valles_marineris_enhanced.tif_thumb.png'}]\n"
     ]
    }
   ],
   "source": [
    "# Thumb print images...not as good as full images.  Currently being used in scrape_mars.py and index.html\n",
    "\n",
    "url = \"https://astrogeology.usgs.gov/search/results?q=hemisphere+enhanced&k1=target&v1=Mars\"\n",
    "browser.visit(url)\n",
    "hemi_html = browser.html\n",
    "hemi_soup = BeautifulSoup(hemi_html, 'html.parser')\n",
    "\n",
    "# Narrow scrape to right area\n",
    "hemi_image_wide = hemi_soup.find(\"div\", class_=\"collapsible results\").find_all(\"div\", class_=\"item\")\n",
    "\n",
    "\n",
    "image_dict =[]\n",
    "\n",
    "for image in hemi_image_wide:\n",
    "    image_url = \"https://astrogeology.usgs.gov\" + image.find(\"img\", class_=\"thumb\")[\"src\"]  \n",
    "    image_title = image.find(\"h3\").get_text()\n",
    "    image_dict.append({\"title\": image_title, \"img_url\": image_url})\n",
    "\n",
    "print(image_dict)\n",
    "\n"
   ]
  },
  {
   "cell_type": "code",
   "execution_count": 6,
   "metadata": {},
   "outputs": [
    {
     "name": "stdout",
     "output_type": "stream",
     "text": [
      "[{'jpg_url': 'https://astrogeology.usgs.gov/cache/images/f5e372a36edfa389625da6d0cc25d905_cerberus_enhanced.tif_full.jpg'}, {'jpg_url': 'https://astrogeology.usgs.gov/cache/images/3778f7b43bbbc89d6e3cfabb3613ba93_schiaparelli_enhanced.tif_full.jpg'}, {'jpg_url': 'https://astrogeology.usgs.gov/cache/images/555e6403a6ddd7ba16ddb0e471cadcf7_syrtis_major_enhanced.tif_full.jpg'}, {'jpg_url': 'https://astrogeology.usgs.gov/cache/images/b3c7c6c9138f57b4756be9b9c43e3a48_valles_marineris_enhanced.tif_full.jpg'}]\n"
     ]
    }
   ],
   "source": [
    "# Dictionary of detailed images - cannot determine how to add to scrape_mars.py\n",
    "\n",
    "jpg_dict =[]\n",
    "\n",
    "for i in range(0, 4):\n",
    "    url = image_dict[i][\"img_url\"]\n",
    "    browser.visit(url)\n",
    "    jpg_html = browser.html\n",
    "    jpg_soup = BeautifulSoup(jpg_html, 'html.parser')\n",
    "    \n",
    "    jpg_link = \"https://astrogeology.usgs.gov\" + jpg_soup.find(\"img\", class_=\"wide-image\")[\"src\"]\n",
    "    jpg_dict.append({\"jpg_url\": jpg_link})\n",
    "    \n",
    "print(jpg_dict)\n",
    "\n",
    "\n",
    "    "
   ]
  },
  {
   "cell_type": "code",
   "execution_count": 8,
   "metadata": {},
   "outputs": [
    {
     "name": "stdout",
     "output_type": "stream",
     "text": [
      "[{'name': 'Cerberus Hemisphere Enhanced', 'link': {'jpg_url': 'https://astrogeology.usgs.gov/cache/images/f5e372a36edfa389625da6d0cc25d905_cerberus_enhanced.tif_full.jpg'}}, {'name': 'Schiaparelli Hemisphere Enhanced', 'link': {'jpg_url': 'https://astrogeology.usgs.gov/cache/images/3778f7b43bbbc89d6e3cfabb3613ba93_schiaparelli_enhanced.tif_full.jpg'}}, {'name': 'Syrtis Major Hemisphere Enhanced', 'link': {'jpg_url': 'https://astrogeology.usgs.gov/cache/images/555e6403a6ddd7ba16ddb0e471cadcf7_syrtis_major_enhanced.tif_full.jpg'}}, {'name': 'Valles Marineris Hemisphere Enhanced', 'link': {'jpg_url': 'https://astrogeology.usgs.gov/cache/images/b3c7c6c9138f57b4756be9b9c43e3a48_valles_marineris_enhanced.tif_full.jpg'}}]\n"
     ]
    }
   ],
   "source": [
    "# New dictionary with Hemishere names and enhanced URLs\n",
    "\n",
    "master_dict = []\n",
    "\n",
    "for i in range(0,4):\n",
    "    link = jpg_dict[i]\n",
    "    name = image_dict[i][\"title\"]\n",
    "    master_dict.append({\"name\": name, \"link\": link})\n",
    "    \n",
    "print(master_dict)"
   ]
  }
 ],
 "metadata": {
  "kernelspec": {
   "display_name": "Python [conda env:PythonData] *",
   "language": "python",
   "name": "conda-env-PythonData-py"
  },
  "language_info": {
   "codemirror_mode": {
    "name": "ipython",
    "version": 3
   },
   "file_extension": ".py",
   "mimetype": "text/x-python",
   "name": "python",
   "nbconvert_exporter": "python",
   "pygments_lexer": "ipython3",
   "version": "3.6.12"
  }
 },
 "nbformat": 4,
 "nbformat_minor": 4
}
