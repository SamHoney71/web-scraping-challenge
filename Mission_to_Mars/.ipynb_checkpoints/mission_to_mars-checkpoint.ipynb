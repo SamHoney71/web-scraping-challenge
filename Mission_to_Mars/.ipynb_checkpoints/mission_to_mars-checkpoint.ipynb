{
 "cells": [
  {
   "cell_type": "code",
   "execution_count": 1,
   "metadata": {},
   "outputs": [],
   "source": [
    "from splinter import Browser\n",
    "from bs4 import BeautifulSoup\n",
    "import time\n",
    "import pandas as pd\n",
    "from lxml import etree as et\n",
    "import html5lib"
   ]
  },
  {
   "cell_type": "code",
   "execution_count": 2,
   "metadata": {},
   "outputs": [],
   "source": [
    "executable_path = {\"executable_path\": r\"C:\\users\\gjete\\bin\\chromedriver\"}\n",
    "browser = Browser(\"chrome\", **executable_path, headless=False)"
   ]
  },
  {
   "cell_type": "code",
   "execution_count": 16,
   "metadata": {
    "scrolled": true
   },
   "outputs": [
    {
     "name": "stdout",
     "output_type": "stream",
     "text": [
      "5 Hidden Gems Are Riding Aboard NASA's Perseverance Rover\n",
      "------------\n",
      "The symbols, mottos, and small objects added to the agency's newest Mars rover serve a variety of purposes, from functional to decorative.\n"
     ]
    }
   ],
   "source": [
    "# Scrape the NASA Mars News Site and collect the latest News Title and Paragraph Text. \n",
    "# Assign the text to variables (news_title & news_p) that you can reference later.\n",
    "\n",
    "url = \"https://mars.nasa.gov/news/\"\n",
    "browser.visit(url)\n",
    "mars_html = browser.html\n",
    "news_soup = BeautifulSoup(mars_html, 'html.parser')\n",
    "# print(news_soup.prettify())\n",
    "\n",
    "lists = news_soup.find(\"div\", class_=\"list_text\")\n",
    "\n",
    "news_title = lists.find(\"div\", class_= \"content_title\").text\n",
    "news_p = lists.find(\"div\", class_= \"article_teaser_body\").text\n",
    "\n",
    "print(news_title)\n",
    "print('------------')\n",
    "print(news_p)\n"
   ]
  },
  {
   "cell_type": "code",
   "execution_count": 54,
   "metadata": {},
   "outputs": [
    {
     "name": "stdout",
     "output_type": "stream",
     "text": [
      "https://www.jpl.nasa.gov/spaceimages/images/wallpaper/PIA19343-1920x1200.jpg\n"
     ]
    }
   ],
   "source": [
    "#JPL Mars Space Images \n",
    "#Use splinter to navigate the site and find the image url for the current \n",
    "#Featured Mars Image and assign the url string to a variable called featured_image_url.\n",
    "#https://www.jpl.nasa.gov/spaceimages/?search=&category=Mars\n",
    "\n",
    "url = \"https://www.jpl.nasa.gov/spaceimages/?search=&category=Mars\"\n",
    "browser.visit(url)\n",
    "image_html = browser.html\n",
    "image_soup = BeautifulSoup(image_html, 'html.parser')\n",
    "\n",
    "feature_image_wide = image_soup.find(\"div\", class_=\"carousel_container\")\n",
    "\n",
    "dirty_feature_image_url = feature_image_wide.find(\"article\", class_=\"carousel_item\")[\"style\"]\n",
    "\n",
    "featured_image_url_1 = dirty_feature_image_url.replace('background-image: url(','')\n",
    "\n",
    "featured_image_url_2 = featured_image_url_1.replace(');','')[1:-1]\n",
    "\n",
    "featured_image_url = \"https://www.jpl.nasa.gov\"+featured_image_url_2\n",
    "\n",
    "print(featured_image_url)\n"
   ]
  },
  {
   "cell_type": "code",
   "execution_count": 20,
   "metadata": {},
   "outputs": [],
   "source": [
    "#JPL Mars Space Images \n",
    "#Use splinter to navigate the site and find the image url for the current \n",
    "#Featured Mars Image and assign the url string to a variable called featured_image_url.\n",
    "#https://www.jpl.nasa.gov/spaceimages/?search=&category=Mars\n",
    "#\"https://www.jpl.nasa.gov//spaceimages/images/mediumsize/PIA18905_ip.jpg\"\n",
    "\n",
    "def init_browser():    \n",
    "    executable_path = {\"executable_path\": r\"C:\\users\\gjete\\bin\\chromedriver\"}\n",
    "    return Browser(\"chrome\", **executable_path, headless=False)\n",
    "\n",
    "def scrape():\n",
    "    browser = init_browser()\n",
    "\n",
    "    jpg_url = \"https://www.jpl.nasa.gov/spaceimages/?search=&category=Mars\"\n",
    "    browser.visit(jpg_url)\n",
    "\n",
    "    time.sleep(1)\n",
    "    \n",
    "    #Scrape page into Soup\n",
    "    image_html = browser.html\n",
    "    image_soup = BeautifulSoup(image_html, \"html.parser\")\n",
    "    \n",
    "    \n",
    "    \n",
    "    \n",
    "    \n",
    "    return image_soup.prettify()\n",
    "    \n",
    "    "
   ]
  },
  {
   "cell_type": "code",
   "execution_count": 13,
   "metadata": {},
   "outputs": [
    {
     "data": {
      "text/plain": [
       "<Response [200]>"
      ]
     },
     "execution_count": 13,
     "metadata": {},
     "output_type": "execute_result"
    }
   ],
   "source": [
    "# import requests\n",
    "# response =  requests.get(\"https://www.jpl.nasa.gov//spaceimages/images/mediumsize/PIA18905_ip.jpg\")\n",
    "# response"
   ]
  },
  {
   "cell_type": "code",
   "execution_count": null,
   "metadata": {},
   "outputs": [],
   "source": [
    "#JPL Mars Space Images - Featured Image  \n",
    "#https://www.jpl.nasa.gov/spaceimages/?search=&category=Mars\n",
    "\n",
    "\n",
    "\n",
    "\n",
    "\n",
    "# Use splinter to navigate the site and find the image url for the \n",
    "#current Featured Mars Image and assign the url string to a variable called featured_image_url.\n",
    "\n",
    "# Make sure to find the image url to the full size .jpg image.\n",
    "# Make sure to save a complete url string for this image.\n",
    "\n",
    "# Example: \n",
    "#featured_image_url = 'https://www.jpl.nasa.gov/spaceimages/images/largesize/PIA16225_hires.jpg'\n",
    "\n",
    "\n",
    "\n"
   ]
  },
  {
   "cell_type": "code",
   "execution_count": null,
   "metadata": {
    "scrolled": false
   },
   "outputs": [],
   "source": []
  },
  {
   "cell_type": "code",
   "execution_count": null,
   "metadata": {},
   "outputs": [],
   "source": [
    "# parser = BeautifulSoup(content,'html.parser')\n",
    "# head = parser.head\n",
    "# title = head.title\n",
    "# head, title, title.text"
   ]
  },
  {
   "cell_type": "code",
   "execution_count": null,
   "metadata": {},
   "outputs": [],
   "source": [
    "# response = requests.get(\"https://mars.nasa.gov/news/\")\n",
    "# content = response.content\n",
    "# parser = BeautifulSoup(content,'html.parser')\n",
    "\n",
    "# title = parser.find_all(\"div\", class_=\"bottom_gradient\")\n",
    "# print(title)"
   ]
  },
  {
   "cell_type": "code",
   "execution_count": null,
   "metadata": {},
   "outputs": [],
   "source": [
    "# url = \"https://mars.nasa.gov/news/\"\n",
    "# browser.visit(url)\n",
    "\n"
   ]
  },
  {
   "cell_type": "code",
   "execution_count": null,
   "metadata": {},
   "outputs": [],
   "source": []
  },
  {
   "cell_type": "code",
   "execution_count": null,
   "metadata": {},
   "outputs": [],
   "source": [
    "# Mars News\n",
    "# Scrape the NASA Mars News Site and collect the latest News Title and Paragraph Text. \n",
    "# Assign the text to variables (news_title & news_p) that you can reference later.\n",
    "\n",
    "def scrape():\n",
    "    browser = init_browser()\n",
    "    listings = {}\n",
    "    url = \"https://mars.nasa.gov/news/\"\n",
    "    browser.visit(url)\n",
    "\n",
    "#     time.sleep(1)\n",
    "   \n",
    "    # Create a Beautiful Soup object\n",
    "    html = browser.html\n",
    "    soup = BeautifulSoup(html, \"html.parser\") \n",
    "    listings[\"news_title\"] = soup.find('a', class_=\"_self\")\n",
    "    \n",
    "    print(listings)"
   ]
  },
  {
   "cell_type": "code",
   "execution_count": null,
   "metadata": {},
   "outputs": [],
   "source": [
    "# Mars Facts   \n",
    "\n",
    "# Visit the Mars Facts webpage https://space-facts.com/mars/  and \n",
    "# use Pandas to scrape the table containing facts about the planet including Diameter, Mass, etc.\n",
    "\n",
    "\n",
    "#Use Pandas to convert the data to a HTML table string.\n"
   ]
  },
  {
   "cell_type": "code",
   "execution_count": null,
   "metadata": {},
   "outputs": [],
   "source": [
    "# Mars Hemispheres\n",
    "\n",
    "#Visit the USGS Astrogeology site https://astrogeology.usgs.gov/search/results?q=hemisphere+enhanced&k1=target&v1=Mars\n",
    "# to obtain high resolution images for each of Mar's hemispheres.\n",
    "\n",
    "#You will need to click each of the links to the hemispheres in order to find the \n",
    "#image url to the full resolution image.\n",
    "\n",
    "#Save both the image url string for the full resolution hemisphere image, \n",
    "#and the Hemisphere title containing the hemisphere name. \n",
    "#Use a Python dictionary to store the data using the keys img_url and title.\n",
    "\n",
    "\n",
    "#Append the dictionary with the image url string and the hemisphere title to a list. \n",
    "#This list will contain one dictionary for each hemisphere.\n",
    "\n",
    "#Example:\n",
    "# hemisphere_image_urls = [\n",
    "#     {\"title\": \"Valles Marineris Hemisphere\", \"img_url\": \"...\"},\n",
    "#     {\"title\": \"Cerberus Hemisphere\", \"img_url\": \"...\"},\n",
    "#     {\"title\": \"Schiaparelli Hemisphere\", \"img_url\": \"...\"},\n",
    "#     {\"title\": \"Syrtis Major Hemisphere\", \"img_url\": \"...\"},\n",
    "# ]"
   ]
  }
 ],
 "metadata": {
  "kernelspec": {
   "display_name": "Python [conda env:PythonData] *",
   "language": "python",
   "name": "conda-env-PythonData-py"
  },
  "language_info": {
   "codemirror_mode": {
    "name": "ipython",
    "version": 3
   },
   "file_extension": ".py",
   "mimetype": "text/x-python",
   "name": "python",
   "nbconvert_exporter": "python",
   "pygments_lexer": "ipython3",
   "version": "3.6.12"
  }
 },
 "nbformat": 4,
 "nbformat_minor": 4
}
